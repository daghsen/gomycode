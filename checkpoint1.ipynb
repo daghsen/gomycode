{
  "nbformat": 4,
  "nbformat_minor": 0,
  "metadata": {
    "colab": {
      "name": "checkpoint1.ipynb",
      "provenance": []
    },
    "kernelspec": {
      "name": "python3",
      "display_name": "Python 3"
    },
    "language_info": {
      "name": "python"
    }
  },
  "cells": [
    {
      "cell_type": "code",
      "metadata": {
        "colab": {
          "base_uri": "https://localhost:8080/"
        },
        "id": "laS6Ov58eKC9",
        "outputId": "1b1b2145-30b2-441e-d1d0-2d0605c20ebc"
      },
      "source": [
        "L=list()\n",
        "for x in range(2000,3200):\n",
        "  if (x % 7 ==0) and (x % 5!=0):\n",
        "    L.append(x)\n",
        "print(L)\n"
      ],
      "execution_count": null,
      "outputs": [
        {
          "output_type": "stream",
          "name": "stdout",
          "text": [
            "[2002, 2009, 2016, 2023, 2037, 2044, 2051, 2058, 2072, 2079, 2086, 2093, 2107, 2114, 2121, 2128, 2142, 2149, 2156, 2163, 2177, 2184, 2191, 2198, 2212, 2219, 2226, 2233, 2247, 2254, 2261, 2268, 2282, 2289, 2296, 2303, 2317, 2324, 2331, 2338, 2352, 2359, 2366, 2373, 2387, 2394, 2401, 2408, 2422, 2429, 2436, 2443, 2457, 2464, 2471, 2478, 2492, 2499, 2506, 2513, 2527, 2534, 2541, 2548, 2562, 2569, 2576, 2583, 2597, 2604, 2611, 2618, 2632, 2639, 2646, 2653, 2667, 2674, 2681, 2688, 2702, 2709, 2716, 2723, 2737, 2744, 2751, 2758, 2772, 2779, 2786, 2793, 2807, 2814, 2821, 2828, 2842, 2849, 2856, 2863, 2877, 2884, 2891, 2898, 2912, 2919, 2926, 2933, 2947, 2954, 2961, 2968, 2982, 2989, 2996, 3003, 3017, 3024, 3031, 3038, 3052, 3059, 3066, 3073, 3087, 3094, 3101, 3108, 3122, 3129, 3136, 3143, 3157, 3164, 3171, 3178, 3192, 3199]\n"
          ]
        }
      ]
    },
    {
      "cell_type": "code",
      "metadata": {
        "colab": {
          "base_uri": "https://localhost:8080/"
        },
        "id": "1vC1FJUcg_B6",
        "outputId": "9789869a-9e0b-43b4-97ac-7bb335c496df"
      },
      "source": [
        "n=1\n",
        "def fact (x):\n",
        "  for i in range (1,n+1):\n",
        "    x=x*i\n",
        "print(x)"
      ],
      "execution_count": null,
      "outputs": [
        {
          "output_type": "stream",
          "name": "stdout",
          "text": [
            "3199\n"
          ]
        }
      ]
    },
    {
      "cell_type": "code",
      "metadata": {
        "colab": {
          "base_uri": "https://localhost:8080/"
        },
        "id": "lZn1LmddsnCM",
        "outputId": "f91ea1cc-873e-4b9d-c9e6-a26c7c831e94"
      },
      "source": [
        "m=int(input(\"veuiller saisir un entier \"))\n",
        "d=dict()\n",
        "for x in range(1,m+1):\n",
        "    d[x]=x*x\n",
        "\n",
        "print(d) "
      ],
      "execution_count": null,
      "outputs": [
        {
          "output_type": "stream",
          "name": "stdout",
          "text": [
            "veuiller saisir un entier 5\n",
            "{1: 1, 2: 4, 3: 9, 4: 16, 5: 25}\n"
          ]
        }
      ]
    },
    {
      "cell_type": "code",
      "metadata": {
        "colab": {
          "base_uri": "https://localhost:8080/"
        },
        "id": "2JNWAtu_tOnc",
        "outputId": "09bfecec-b11d-42ba-c651-14d230490933"
      },
      "source": [
        "x=input(\"veuiller saisir une chaine \")\n",
        "n=int(input(\"veuiller saisir un entier \"))\n",
        "y=\"\"\n",
        "def missing (x,n):\n",
        "  for i in range(0,len(x)):\n",
        "    if (n==i):\n",
        "      y=x[i],\"\")\n",
        "  print(y)\n",
        "\n",
        "missing(x,n)\n"
      ],
      "execution_count": null,
      "outputs": [
        {
          "output_type": "stream",
          "name": "stdout",
          "text": [
            "veuiller saisir une chaine kitten\n",
            "veuiller saisir un entier 2\n",
            "kien\n"
          ]
        }
      ]
    },
    {
      "cell_type": "code",
      "metadata": {
        "colab": {
          "base_uri": "https://localhost:8080/"
        },
        "id": "LGbRD6Ro5SDY",
        "outputId": "8f0f92c6-e254-4903-94f7-bc7a8fac75dc"
      },
      "source": [
        "import numpy as np\n",
        "x= np.arange(6).reshape(3, 2)\n",
        "print(\"Original array elements:\")\n",
        "print(x)\n",
        "print(\"Array to list\")\n",
        "print(x.tolist())"
      ],
      "execution_count": null,
      "outputs": [
        {
          "output_type": "stream",
          "name": "stdout",
          "text": [
            "Original array elements:\n",
            "[[0 1]\n",
            " [2 3]\n",
            " [4 5]]\n",
            "Array to list\n",
            "[[0, 1], [2, 3], [4, 5]]\n"
          ]
        }
      ]
    },
    {
      "cell_type": "code",
      "metadata": {
        "id": "ohishkv37BlC",
        "colab": {
          "base_uri": "https://localhost:8080/"
        },
        "outputId": "94413d19-7ad7-4e07-ebe3-5f613f02e644"
      },
      "source": [
        "x = np.array([0, 1, 2])\n",
        "y = np.array([2, 1, 0])\n",
        "\n",
        "print(\" Covariance matrix of the said arrays: \",np.cov(x, y))"
      ],
      "execution_count": null,
      "outputs": [
        {
          "output_type": "stream",
          "name": "stdout",
          "text": [
            " Covariance matrix of the said arrays:  [[ 1. -1.]\n",
            " [-1.  1.]]\n"
          ]
        }
      ]
    },
    {
      "cell_type": "code",
      "metadata": {
        "colab": {
          "base_uri": "https://localhost:8080/"
        },
        "id": "Ipfhot7M9Owb",
        "outputId": "95db48f6-1480-456f-de3a-c9b0ceaa881d"
      },
      "source": [
        "import math\n",
        "C=50\n",
        "H=30\n",
        "D=input(\"entrer vos valeur:\")\n",
        "D=D.split(',')\n",
        "L=[]\n",
        "for i in D:\n",
        "  x=round(math.sqrt((2 * C * int(i)/H)))\n",
        "  L.append(x)\n",
        "print(L)"
      ],
      "execution_count": null,
      "outputs": [
        {
          "output_type": "stream",
          "name": "stdout",
          "text": [
            "entrer vos valeur:100,150,180\n",
            "[18, 22, 24]\n"
          ]
        }
      ]
    },
    {
      "cell_type": "code",
      "metadata": {
        "id": "KeZjvjjyKZxs"
      },
      "source": [
        ""
      ],
      "execution_count": null,
      "outputs": []
    }
  ]
}